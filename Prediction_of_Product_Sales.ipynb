{
  "nbformat": 4,
  "nbformat_minor": 0,
  "metadata": {
    "colab": {
      "provenance": [],
      "authorship_tag": "ABX9TyOkB5cWyV/IKZyHOylHvrcY",
      "include_colab_link": true
    },
    "kernelspec": {
      "name": "python3",
      "display_name": "Python 3"
    },
    "language_info": {
      "name": "python"
    }
  },
  "cells": [
    {
      "cell_type": "markdown",
      "metadata": {
        "id": "view-in-github",
        "colab_type": "text"
      },
      "source": [
        "<a href=\"https://colab.research.google.com/github/GabrielleYa/Prediction-of-Product-Sales/blob/main/Prediction_of_Product_Sales.ipynb\" target=\"_parent\"><img src=\"https://colab.research.google.com/assets/colab-badge.svg\" alt=\"Open In Colab\"/></a>"
      ]
    },
    {
      "cell_type": "markdown",
      "source": [
        "# **Prediction of Product Sales**"
      ],
      "metadata": {
        "id": "7szYCt7RBvUl"
      }
    },
    {
      "cell_type": "markdown",
      "source": [
        "- **Author:** Gabrielle Ray"
      ],
      "metadata": {
        "id": "o_1WTFAXCNdG"
      }
    },
    {
      "cell_type": "markdown",
      "source": [
        "## **Project Overview**"
      ],
      "metadata": {
        "id": "T_s8cfYoHxcG"
      }
    },
    {
      "cell_type": "markdown",
      "source": [
        "## **Load and Inspect Data**"
      ],
      "metadata": {
        "id": "4zHh8J2bIBKU"
      }
    },
    {
      "cell_type": "markdown",
      "source": [
        "## **Clean Data**"
      ],
      "metadata": {
        "id": "1q7zIZ0pIOyS"
      }
    },
    {
      "cell_type": "markdown",
      "source": [
        "## **Explanatory Data Analysis**"
      ],
      "metadata": {
        "id": "GJykD2ZyIULU"
      }
    },
    {
      "cell_type": "markdown",
      "source": [
        "## **Featured Inspection**"
      ],
      "metadata": {
        "id": "a_ivZb_IIb1s"
      }
    }
  ]
}