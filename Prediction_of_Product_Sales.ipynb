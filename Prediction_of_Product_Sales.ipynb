{
  "nbformat": 4,
  "nbformat_minor": 0,
  "metadata": {
    "colab": {
      "provenance": [],
      "authorship_tag": "ABX9TyO6H8hb+S7Hm2PhrAN/CNn3",
      "include_colab_link": true
    },
    "kernelspec": {
      "name": "python3",
      "display_name": "Python 3"
    },
    "language_info": {
      "name": "python"
    }
  },
  "cells": [
    {
      "cell_type": "markdown",
      "metadata": {
        "id": "view-in-github",
        "colab_type": "text"
      },
      "source": [
        "<a href=\"https://colab.research.google.com/github/GabrielleYa/Prediction-of-Product-Sales/blob/main/Prediction_of_Product_Sales.ipynb\" target=\"_parent\"><img src=\"https://colab.research.google.com/assets/colab-badge.svg\" alt=\"Open In Colab\"/></a>"
      ]
    },
    {
      "cell_type": "markdown",
      "source": [
        "# <center> Prediction of Product Sales </center>"
      ],
      "metadata": {
        "id": "IkghWO2RKhTf"
      }
    },
    {
      "cell_type": "markdown",
      "source": [
        "- **Author:** Gabrielle Ray"
      ],
      "metadata": {
        "id": "njJN75I6Kplc"
      }
    },
    {
      "cell_type": "markdown",
      "source": [
        "- **Coding Dojo**"
      ],
      "metadata": {
        "id": "O0j6D-hjKwq9"
      }
    },
    {
      "cell_type": "markdown",
      "source": [
        "##Project Overview"
      ],
      "metadata": {
        "id": "mp-AL1ZbK06A"
      }
    },
    {
      "cell_type": "code",
      "execution_count": null,
      "metadata": {
        "id": "MpAf6smUKY8W"
      },
      "outputs": [],
      "source": []
    },
    {
      "cell_type": "markdown",
      "source": [
        "##Load and Inspect Data"
      ],
      "metadata": {
        "id": "U0biWEk8K74y"
      }
    },
    {
      "cell_type": "code",
      "source": [],
      "metadata": {
        "id": "-qG1isLtLCFc"
      },
      "execution_count": null,
      "outputs": []
    },
    {
      "cell_type": "markdown",
      "source": [
        "##Clean Data"
      ],
      "metadata": {
        "id": "RWg4QdMvLDd5"
      }
    },
    {
      "cell_type": "code",
      "source": [],
      "metadata": {
        "id": "b5Waz4YdLImb"
      },
      "execution_count": null,
      "outputs": []
    },
    {
      "cell_type": "markdown",
      "source": [
        "##Exploratory Data Analysis\n"
      ],
      "metadata": {
        "id": "KBW0We3BLI_o"
      }
    },
    {
      "cell_type": "code",
      "source": [],
      "metadata": {
        "id": "NjPhXZkDLO0Q"
      },
      "execution_count": null,
      "outputs": []
    },
    {
      "cell_type": "markdown",
      "source": [
        "##Feature Inspection"
      ],
      "metadata": {
        "id": "yeKFx9jvLPLR"
      }
    }
  ]
}